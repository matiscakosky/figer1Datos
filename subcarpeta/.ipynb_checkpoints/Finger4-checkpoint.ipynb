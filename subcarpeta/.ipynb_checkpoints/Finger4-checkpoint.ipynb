{
 "cells": [
  {
   "cell_type": "code",
   "execution_count": 1,
   "metadata": {},
   "outputs": [],
   "source": [
    "import numpy as np\n",
    "import pandas as pd\n",
    "\n",
    "from scipy.linalg import svd\n",
    "from sklearn.manifold import TSNE\n",
    "\n",
    "import matplotlib.pyplot as plt\n",
    "import seaborn as sns"
   ]
  },
  {
   "cell_type": "code",
   "execution_count": 9,
   "metadata": {},
   "outputs": [],
   "source": [
    "gte = pd.read_csv('GTExdata.csv', low_memory=False)\n",
    "sampleLabels = pd.read_csv('SampleLabels.csv', low_memory=False)"
   ]
  },
  {
   "cell_type": "code",
   "execution_count": 4,
   "metadata": {},
   "outputs": [
    {
     "data": {
      "text/html": [
       "<div>\n",
       "<style scoped>\n",
       "    .dataframe tbody tr th:only-of-type {\n",
       "        vertical-align: middle;\n",
       "    }\n",
       "\n",
       "    .dataframe tbody tr th {\n",
       "        vertical-align: top;\n",
       "    }\n",
       "\n",
       "    .dataframe thead th {\n",
       "        text-align: right;\n",
       "    }\n",
       "</style>\n",
       "<table border=\"1\" class=\"dataframe\">\n",
       "  <thead>\n",
       "    <tr style=\"text-align: right;\">\n",
       "      <th></th>\n",
       "      <th>-0.81443</th>\n",
       "      <th>-0.1728</th>\n",
       "      <th>-0.13566</th>\n",
       "      <th>4.036</th>\n",
       "      <th>3.4742</th>\n",
       "      <th>0.017055</th>\n",
       "      <th>0.76495</th>\n",
       "      <th>3.0281</th>\n",
       "      <th>0.56595</th>\n",
       "      <th>1.9045</th>\n",
       "      <th>...</th>\n",
       "      <th>-0.88508</th>\n",
       "      <th>-2.2228</th>\n",
       "      <th>-3.0385</th>\n",
       "      <th>-2.8584</th>\n",
       "      <th>-3.4724</th>\n",
       "      <th>-2.5374</th>\n",
       "      <th>-2.9705</th>\n",
       "      <th>-1.8397</th>\n",
       "      <th>-2.1044</th>\n",
       "      <th>-1.9881</th>\n",
       "    </tr>\n",
       "  </thead>\n",
       "  <tbody>\n",
       "    <tr>\n",
       "      <th>0</th>\n",
       "      <td>-1.219500</td>\n",
       "      <td>-0.139670</td>\n",
       "      <td>-0.217330</td>\n",
       "      <td>-1.4361</td>\n",
       "      <td>-0.86158</td>\n",
       "      <td>0.403280</td>\n",
       "      <td>-0.91309</td>\n",
       "      <td>6.9136</td>\n",
       "      <td>4.38540</td>\n",
       "      <td>6.15440</td>\n",
       "      <td>...</td>\n",
       "      <td>2.01310</td>\n",
       "      <td>1.25060</td>\n",
       "      <td>0.333560</td>\n",
       "      <td>0.37651</td>\n",
       "      <td>-0.086984</td>\n",
       "      <td>0.221580</td>\n",
       "      <td>1.205700</td>\n",
       "      <td>0.81913</td>\n",
       "      <td>0.20093</td>\n",
       "      <td>1.371100</td>\n",
       "    </tr>\n",
       "    <tr>\n",
       "      <th>1</th>\n",
       "      <td>-0.010044</td>\n",
       "      <td>-0.042155</td>\n",
       "      <td>0.111440</td>\n",
       "      <td>-1.0768</td>\n",
       "      <td>-0.72246</td>\n",
       "      <td>0.651900</td>\n",
       "      <td>-0.79763</td>\n",
       "      <td>5.6678</td>\n",
       "      <td>2.94680</td>\n",
       "      <td>4.63420</td>\n",
       "      <td>...</td>\n",
       "      <td>-1.07800</td>\n",
       "      <td>-0.52936</td>\n",
       "      <td>-0.989140</td>\n",
       "      <td>-3.10870</td>\n",
       "      <td>-3.262500</td>\n",
       "      <td>-1.159200</td>\n",
       "      <td>0.091823</td>\n",
       "      <td>-1.14740</td>\n",
       "      <td>-1.59540</td>\n",
       "      <td>-0.092996</td>\n",
       "    </tr>\n",
       "    <tr>\n",
       "      <th>2</th>\n",
       "      <td>-1.336400</td>\n",
       "      <td>-0.088622</td>\n",
       "      <td>-0.126460</td>\n",
       "      <td>-1.7866</td>\n",
       "      <td>-0.99562</td>\n",
       "      <td>0.009797</td>\n",
       "      <td>-1.05550</td>\n",
       "      <td>6.5985</td>\n",
       "      <td>4.22730</td>\n",
       "      <td>6.02260</td>\n",
       "      <td>...</td>\n",
       "      <td>0.67228</td>\n",
       "      <td>0.98691</td>\n",
       "      <td>0.142270</td>\n",
       "      <td>0.34028</td>\n",
       "      <td>-0.129170</td>\n",
       "      <td>0.064783</td>\n",
       "      <td>1.279200</td>\n",
       "      <td>1.05850</td>\n",
       "      <td>0.63342</td>\n",
       "      <td>1.581000</td>\n",
       "    </tr>\n",
       "    <tr>\n",
       "      <th>3</th>\n",
       "      <td>-1.055100</td>\n",
       "      <td>-0.065230</td>\n",
       "      <td>-0.087368</td>\n",
       "      <td>-1.4559</td>\n",
       "      <td>-0.69961</td>\n",
       "      <td>0.205960</td>\n",
       "      <td>-0.83905</td>\n",
       "      <td>6.1986</td>\n",
       "      <td>4.05600</td>\n",
       "      <td>5.78430</td>\n",
       "      <td>...</td>\n",
       "      <td>0.48401</td>\n",
       "      <td>0.63014</td>\n",
       "      <td>0.061371</td>\n",
       "      <td>-0.82861</td>\n",
       "      <td>-1.537200</td>\n",
       "      <td>-0.121850</td>\n",
       "      <td>0.735520</td>\n",
       "      <td>0.32366</td>\n",
       "      <td>-0.54558</td>\n",
       "      <td>0.789580</td>\n",
       "    </tr>\n",
       "    <tr>\n",
       "      <th>4</th>\n",
       "      <td>-0.538700</td>\n",
       "      <td>-0.184340</td>\n",
       "      <td>-0.266680</td>\n",
       "      <td>-1.8266</td>\n",
       "      <td>-0.79040</td>\n",
       "      <td>0.593780</td>\n",
       "      <td>-0.79899</td>\n",
       "      <td>-1.7453</td>\n",
       "      <td>-0.25312</td>\n",
       "      <td>-0.47961</td>\n",
       "      <td>...</td>\n",
       "      <td>-0.22813</td>\n",
       "      <td>1.03090</td>\n",
       "      <td>1.608100</td>\n",
       "      <td>1.59950</td>\n",
       "      <td>1.478600</td>\n",
       "      <td>2.137100</td>\n",
       "      <td>0.563560</td>\n",
       "      <td>0.11520</td>\n",
       "      <td>-0.21623</td>\n",
       "      <td>0.675090</td>\n",
       "    </tr>\n",
       "  </tbody>\n",
       "</table>\n",
       "<p>5 rows × 16142 columns</p>\n",
       "</div>"
      ],
      "text/plain": [
       "   -0.81443   -0.1728  -0.13566   4.036   3.4742  0.017055  0.76495  3.0281  \\\n",
       "0 -1.219500 -0.139670 -0.217330 -1.4361 -0.86158  0.403280 -0.91309  6.9136   \n",
       "1 -0.010044 -0.042155  0.111440 -1.0768 -0.72246  0.651900 -0.79763  5.6678   \n",
       "2 -1.336400 -0.088622 -0.126460 -1.7866 -0.99562  0.009797 -1.05550  6.5985   \n",
       "3 -1.055100 -0.065230 -0.087368 -1.4559 -0.69961  0.205960 -0.83905  6.1986   \n",
       "4 -0.538700 -0.184340 -0.266680 -1.8266 -0.79040  0.593780 -0.79899 -1.7453   \n",
       "\n",
       "   0.56595   1.9045    ...     -0.88508  -2.2228   -3.0385  -2.8584   -3.4724  \\\n",
       "0  4.38540  6.15440    ...      2.01310  1.25060  0.333560  0.37651 -0.086984   \n",
       "1  2.94680  4.63420    ...     -1.07800 -0.52936 -0.989140 -3.10870 -3.262500   \n",
       "2  4.22730  6.02260    ...      0.67228  0.98691  0.142270  0.34028 -0.129170   \n",
       "3  4.05600  5.78430    ...      0.48401  0.63014  0.061371 -0.82861 -1.537200   \n",
       "4 -0.25312 -0.47961    ...     -0.22813  1.03090  1.608100  1.59950  1.478600   \n",
       "\n",
       "    -2.5374   -2.9705  -1.8397  -2.1044   -1.9881  \n",
       "0  0.221580  1.205700  0.81913  0.20093  1.371100  \n",
       "1 -1.159200  0.091823 -1.14740 -1.59540 -0.092996  \n",
       "2  0.064783  1.279200  1.05850  0.63342  1.581000  \n",
       "3 -0.121850  0.735520  0.32366 -0.54558  0.789580  \n",
       "4  2.137100  0.563560  0.11520 -0.21623  0.675090  \n",
       "\n",
       "[5 rows x 16142 columns]"
      ]
     },
     "execution_count": 4,
     "metadata": {},
     "output_type": "execute_result"
    }
   ],
   "source": [
    "gte.head()"
   ]
  },
  {
   "cell_type": "code",
   "execution_count": 10,
   "metadata": {},
   "outputs": [
    {
     "data": {
      "text/html": [
       "<div>\n",
       "<style scoped>\n",
       "    .dataframe tbody tr th:only-of-type {\n",
       "        vertical-align: middle;\n",
       "    }\n",
       "\n",
       "    .dataframe tbody tr th {\n",
       "        vertical-align: top;\n",
       "    }\n",
       "\n",
       "    .dataframe thead th {\n",
       "        text-align: right;\n",
       "    }\n",
       "</style>\n",
       "<table border=\"1\" class=\"dataframe\">\n",
       "  <thead>\n",
       "    <tr style=\"text-align: right;\">\n",
       "      <th></th>\n",
       "      <th>Sampleid</th>\n",
       "      <th>Tissue type specific</th>\n",
       "      <th>Tissue type</th>\n",
       "    </tr>\n",
       "  </thead>\n",
       "  <tbody>\n",
       "    <tr>\n",
       "      <th>0</th>\n",
       "      <td>GTEX-N7MS-0007-SM-2D7W1</td>\n",
       "      <td>Whole Blood</td>\n",
       "      <td>Blood</td>\n",
       "    </tr>\n",
       "    <tr>\n",
       "      <th>1</th>\n",
       "      <td>GTEX-N7MS-0011-R10A-SM-2HMJK</td>\n",
       "      <td>Brain - Frontal Cortex (BA9)</td>\n",
       "      <td>Brain</td>\n",
       "    </tr>\n",
       "    <tr>\n",
       "      <th>2</th>\n",
       "      <td>GTEX-N7MS-0011-R11A-SM-2HMJS</td>\n",
       "      <td>Brain - Cerebellar Hemisphere</td>\n",
       "      <td>Brain</td>\n",
       "    </tr>\n",
       "    <tr>\n",
       "      <th>3</th>\n",
       "      <td>GTEX-N7MS-0011-R1a-SM-2HMJG</td>\n",
       "      <td>Brain - Hippocampus</td>\n",
       "      <td>Brain</td>\n",
       "    </tr>\n",
       "    <tr>\n",
       "      <th>4</th>\n",
       "      <td>GTEX-N7MS-0011-R2a-SM-2HML6</td>\n",
       "      <td>Brain - Substantia nigra</td>\n",
       "      <td>Brain</td>\n",
       "    </tr>\n",
       "  </tbody>\n",
       "</table>\n",
       "</div>"
      ],
      "text/plain": [
       "                       Sampleid           Tissue type specific Tissue type\n",
       "0       GTEX-N7MS-0007-SM-2D7W1                    Whole Blood       Blood\n",
       "1  GTEX-N7MS-0011-R10A-SM-2HMJK   Brain - Frontal Cortex (BA9)       Brain\n",
       "2  GTEX-N7MS-0011-R11A-SM-2HMJS  Brain - Cerebellar Hemisphere       Brain\n",
       "3   GTEX-N7MS-0011-R1a-SM-2HMJG            Brain - Hippocampus       Brain\n",
       "4   GTEX-N7MS-0011-R2a-SM-2HML6       Brain - Substantia nigra       Brain"
      ]
     },
     "execution_count": 10,
     "metadata": {},
     "output_type": "execute_result"
    }
   ],
   "source": [
    "sampleLabels.head()"
   ]
  },
  {
   "cell_type": "markdown",
   "metadata": {},
   "source": [
    "## 1.Realizar una descomposición en valores singulares sobre el set "
   ]
  },
  {
   "cell_type": "code",
   "execution_count": 39,
   "metadata": {},
   "outputs": [],
   "source": [
    "## Uso la funcion svd de la librería scipy.linalg para calcular las matrices s,v,d del set\n",
    "u,s,vt = svd(gte)\n"
   ]
  },
  {
   "cell_type": "code",
   "execution_count": 60,
   "metadata": {},
   "outputs": [
    {
     "name": "stdout",
     "output_type": "stream",
     "text": [
      "Los valores singulares de la matriz resultan: \n",
      " [2.52942267e+03 2.15350881e+03 1.85728127e+03 ... 9.47585838e+00\n",
      " 9.39885946e+00 5.49027077e-01]\n"
     ]
    },
    {
     "data": {
      "text/plain": [
       "numpy.ndarray"
      ]
     },
     "execution_count": 60,
     "metadata": {},
     "output_type": "execute_result"
    }
   ],
   "source": [
    "print(\"Los valores singulares de la matriz resultan:\",'\\n',s)\n",
    "type(s)"
   ]
  },
  {
   "cell_type": "markdown",
   "metadata": {},
   "source": [
    "##### A. Graficar la energía acumulada en función de la cantidad de autovalores, y graficar los autovalores del set"
   ]
  },
  {
   "cell_type": "code",
   "execution_count": 176,
   "metadata": {},
   "outputs": [
    {
     "name": "stdout",
     "output_type": "stream",
     "text": [
      "[6.39797906e+06 4.63760019e+06 3.44949373e+06 ... 8.97918920e+01\n",
      " 8.83385591e+01 3.01430732e-01]\n"
     ]
    },
    {
     "data": {
      "text/plain": [
       "[<matplotlib.lines.Line2D at 0x1c6262acf98>]"
      ]
     },
     "execution_count": 176,
     "metadata": {},
     "output_type": "execute_result"
    },
    {
     "data": {
      "image/png": "[encoded data removed]",
      "text/plain": [
       "<Figure size 720x360 with 1 Axes>"
      ]
     },
     "metadata": {},
     "output_type": "display_data"
    }
   ],
   "source": [
    "## Teniendo en cuenta que σ^2[i] correspone al autovalor λ[i] \n",
    "autovalores = s**2\n",
    "print(autovalores)\n",
    "plt.figure(figsize=[10,5])\n",
    "plt.title(\"Autovalores\")\n",
    "plt.xlabel(\"Numero del autovalor\")\n",
    "plt.ylabel(\"Valor del autovalor\")\n",
    "plt.plot(autovalores)"
   ]
  },
  {
   "cell_type": "code",
   "execution_count": 199,
   "metadata": {},
   "outputs": [
    {
     "name": "stdout",
     "output_type": "stream",
     "text": [
      "26841258.956559792\n"
     ]
    }
   ],
   "source": [
    "autovalores[::-1].sort()\n",
    "energiaTotal = sum(autovalores)\n",
    "print(energiaTotal)\n",
    "Lacumulada = []\n",
    "Eacumulada = 0\n",
    "for av in autovalores:\n",
    "    Eacumulada += (av/energiaTotal) *100\n",
    "    Lacumulada.append(Eacumulada)\n",
    "l = Lacumulada[::-1]"
   ]
  },
  {
   "cell_type": "code",
   "execution_count": 200,
   "metadata": {},
   "outputs": [
    {
     "data": {
      "text/plain": [
       "Text(0.5,1,'Energía acumulada por valor de autovalores')"
      ]
     },
     "execution_count": 200,
     "metadata": {},
     "output_type": "execute_result"
    },
    {
     "data": {
      "image/png": "[encoded data removed]",
      "text/plain": [
       "<Figure size 432x288 with 1 Axes>"
      ]
     },
     "metadata": {},
     "output_type": "display_data"
    }
   ],
   "source": [
    "plt.plot(autovalores,l)\n",
    "\n",
    "plt.ylabel('Energía acumulada')\n",
    "plt.xlabel('Valor del autovalor')\n",
    "plt.title('Energía acumulada por valor de autovalores')"
   ]
  },
  {
   "cell_type": "code",
   "execution_count": 201,
   "metadata": {},
   "outputs": [
    {
     "data": {
      "image/png": "[encoded data removed]",
      "text/plain": [
       "<Figure size 432x288 with 1 Axes>"
      ]
     },
     "metadata": {},
     "output_type": "display_data"
    }
   ],
   "source": [
    "plt.plot(range(autovalores.size),Lacumulada)\n",
    "plt.xlabel('Valor del autovalor')\n",
    "plt.ylabel('Energía acumulada')\n",
    "plt.title('Energía acumulada por valor de autovalores')\n",
    "plt.show()"
   ]
  },
  {
   "cell_type": "markdown",
   "metadata": {},
   "source": [
    "##### Con los dos gráficos anteriores, indicar qué valor de k se podría utilizar para realizar una aproximación. "
   ]
  },
  {
   "cell_type": "markdown",
   "metadata": {},
   "source": [
    "###### Se entiende por aproximación de rango k:\n",
    "Se puede pensar que como los valores de la matriz Σ se encuentran ordenados de mayor a menor entonces estos valores representan un grado de importancia de los datos.V es una base en donde los vectores de la base est´an ordenados por su grado\n",
    "de importancia. En consecuencia, se podr´ıa ir m´as all´a de quedarse con los\n",
    "8.2. SVD 289\n",
    "valores no nulos, es decir, podr´ıa ser posible quedarse con los k valores no nulos\n",
    "de Σ (k < r) y aproximar bastante bien a la matriz A"
   ]
  },
  {
   "cell_type": "code",
   "execution_count": null,
   "metadata": {},
   "outputs": [],
   "source": []
  }
 ],
 "metadata": {
  "kernelspec": {
   "display_name": "Python 3",
   "language": "python",
   "name": "python3"
  },
  "language_info": {
   "codemirror_mode": {
    "name": "ipython",
    "version": 3
   },
   "file_extension": ".py",
   "mimetype": "text/x-python",
   "name": "python",
   "nbconvert_exporter": "python",
   "pygments_lexer": "ipython3",
   "version": "3.6.5"
  }
 },
 "nbformat": 4,
 "nbformat_minor": 2
}
